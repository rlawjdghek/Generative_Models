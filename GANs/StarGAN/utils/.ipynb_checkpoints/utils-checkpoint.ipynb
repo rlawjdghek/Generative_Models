{
 "cells": [
  {
   "cell_type": "code",
   "execution_count": 66,
   "id": "6cac1f40",
   "metadata": {},
   "outputs": [],
   "source": [
    "from torchvision.utils import save_image\n",
    "import torch\n",
    "import cv2\n",
    "import matplotlib.pyplot as plt\n",
    "import sys"
   ]
  },
  {
   "cell_type": "code",
   "execution_count": 69,
   "id": "59fc33ab",
   "metadata": {},
   "outputs": [],
   "source": [
    "class Logger(object):\n",
    "    def __init__(self):\n",
    "        self.terminal = sys.stdout\n",
    "        self.file = None\n",
    "    \n",
    "    def open(self, file_path, mode=\"w\"):\n",
    "        if mode is None: mode=\"w\"\n",
    "        self.file = open(file_path, mode)\n",
    "        \n",
    "    def write(self, message, is_terminal=1, is_file=1):\n",
    "        if \"\\r\" in message: is_file=0\n",
    "        if is_terminal:\n",
    "            self.terminal.write(message)\n",
    "            self.terminal.flush()\n",
    "            \n",
    "        if is_file:\n",
    "            self.file.write(message)\n",
    "            self.file.flush()\n",
    "            \n",
    "    def flush(self):\n",
    "        pass"
   ]
  },
  {
   "cell_type": "code",
   "execution_count": null,
   "id": "c04aba2c",
   "metadata": {},
   "outputs": [],
   "source": [
    "def save_image(tensor):  # tensor : [B x channel x H x W]\n",
    "    all_ = [] \n",
    "    \n",
    "    "
   ]
  },
  {
   "cell_type": "code",
   "execution_count": 36,
   "id": "55225730",
   "metadata": {},
   "outputs": [],
   "source": [
    "sample_img1 = torch.FloatTensor(cv2.imread(\"/jupyterdata/CelebA/img_align_celeba/000001.jpg\").transpose(2,0,1))\n",
    "sample_img2 = torch.FloatTensor(cv2.imread(\"/jupyterdata/CelebA/img_align_celeba/000002.jpg\").transpose(2,0,1))\n",
    "sample_img3 = torch.FloatTensor(cv2.imread(\"/jupyterdata/CelebA/img_align_celeba/000003.jpg\").transpose(2,0,1))\n",
    "sample_img4 = torch.FloatTensor(cv2.imread(\"/jupyterdata/CelebA/img_align_celeba/000004.jpg\").transpose(2,0,1))"
   ]
  }
 ],
 "metadata": {
  "kernelspec": {
   "display_name": "GANs",
   "language": "python",
   "name": "gans"
  },
  "language_info": {
   "codemirror_mode": {
    "name": "ipython",
    "version": 3
   },
   "file_extension": ".py",
   "mimetype": "text/x-python",
   "name": "python",
   "nbconvert_exporter": "python",
   "pygments_lexer": "ipython3",
   "version": "3.6.13"
  }
 },
 "nbformat": 4,
 "nbformat_minor": 5
}
